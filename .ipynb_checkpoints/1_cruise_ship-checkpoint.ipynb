{
 "cells": [
  {
   "cell_type": "markdown",
   "metadata": {},
   "source": [
    "# 0. Instructions \n",
    "\n",
    "Sample 1: Coding Exercise for the Data Scientist Position (Take Home)\n",
    "\n",
    "**Instructions**    \n",
    "\n",
    "This coding exercise should be performed in python (which is the programming language used by the team). You are free to use the internet and any other libraries. Please save your work in a Jupyter notebook and email it to us for review  .\n",
    "\n",
    "Objective: Build a regressor that recommends the “crew” size for potential ship buyers. Please do the following steps (hint: use numpy, scipy, pandas, sklearn and matplotlib)  \n",
    "\n",
    "1. Read the file and display columns.\n",
    "2. Calculate basic statistics of the data (count, mean, std, etc) and examine data and state your observations.\n",
    "3. Select columns that will be probably important to predict “crew” size.\n",
    "4. If you removed columns explain why you removed those.\n",
    "5. Use one-hot encoding for categorical features.\n",
    "6. Create training and testing sets (use 60% of the data for the training and reminder for testing).\n",
    "7. Build a machine learning model to predict the ‘crew’ size.\n",
    "8. Calculate the Pearson correlation coefficient for the training set and testing data sets.\n",
    "9. Describe hyper-parameters in your model and how you would change them to improve the performance of the model.\n",
    "10. What is regularization? What is the regularization parameter in your model?  \n",
    "\n",
    "Plot regularization parameter value vs Pearson correlation for the test and training sets, and see whether your model has a bias problem or variance problem.\n",
    "\n",
    "https://pub.towardsai.net/data-scientist-coding-exercise-e62f4de7df9e"
   ]
  },
  {
   "cell_type": "markdown",
   "metadata": {},
   "source": [
    "# 1. Read the file and diplay the columns"
   ]
  },
  {
   "cell_type": "code",
   "execution_count": 15,
   "metadata": {
    "execution": {
     "iopub.execute_input": "2021-08-24T21:03:28.267078Z",
     "iopub.status.busy": "2021-08-24T21:03:28.267078Z",
     "iopub.status.idle": "2021-08-24T21:03:28.278081Z",
     "shell.execute_reply": "2021-08-24T21:03:28.277084Z",
     "shell.execute_reply.started": "2021-08-24T21:03:28.267078Z"
    }
   },
   "outputs": [],
   "source": [
    "import pandas as pd\n",
    "import numpy as np\n",
    "import matplotlib.pyplot as plt\n",
    "import seaborn as sns\n",
    "sns.set_style('darkgrid')\n",
    "%matplotlib inline"
   ]
  },
  {
   "cell_type": "code",
   "execution_count": 16,
   "metadata": {
    "execution": {
     "iopub.execute_input": "2021-08-24T21:03:28.280082Z",
     "iopub.status.busy": "2021-08-24T21:03:28.280082Z",
     "iopub.status.idle": "2021-08-24T21:03:28.309078Z",
     "shell.execute_reply": "2021-08-24T21:03:28.308080Z",
     "shell.execute_reply.started": "2021-08-24T21:03:28.280082Z"
    }
   },
   "outputs": [],
   "source": [
    "data = pd.read_csv('cruise_ship_info.csv')"
   ]
  },
  {
   "cell_type": "code",
   "execution_count": 17,
   "metadata": {
    "execution": {
     "iopub.execute_input": "2021-08-24T21:03:28.312079Z",
     "iopub.status.busy": "2021-08-24T21:03:28.311081Z",
     "iopub.status.idle": "2021-08-24T21:03:28.340078Z",
     "shell.execute_reply": "2021-08-24T21:03:28.339083Z",
     "shell.execute_reply.started": "2021-08-24T21:03:28.312079Z"
    }
   },
   "outputs": [
    {
     "data": {
      "text/html": [
       "<div>\n",
       "<style scoped>\n",
       "    .dataframe tbody tr th:only-of-type {\n",
       "        vertical-align: middle;\n",
       "    }\n",
       "\n",
       "    .dataframe tbody tr th {\n",
       "        vertical-align: top;\n",
       "    }\n",
       "\n",
       "    .dataframe thead th {\n",
       "        text-align: right;\n",
       "    }\n",
       "</style>\n",
       "<table border=\"1\" class=\"dataframe\">\n",
       "  <thead>\n",
       "    <tr style=\"text-align: right;\">\n",
       "      <th></th>\n",
       "      <th>Ship_name</th>\n",
       "      <th>Cruise_line</th>\n",
       "      <th>Age</th>\n",
       "      <th>Tonnage</th>\n",
       "      <th>passengers</th>\n",
       "      <th>length</th>\n",
       "      <th>cabins</th>\n",
       "      <th>passenger_density</th>\n",
       "      <th>crew</th>\n",
       "    </tr>\n",
       "  </thead>\n",
       "  <tbody>\n",
       "    <tr>\n",
       "      <th>0</th>\n",
       "      <td>Journey</td>\n",
       "      <td>Azamara</td>\n",
       "      <td>6</td>\n",
       "      <td>30.277</td>\n",
       "      <td>6.94</td>\n",
       "      <td>5.94</td>\n",
       "      <td>3.55</td>\n",
       "      <td>42.64</td>\n",
       "      <td>3.55</td>\n",
       "    </tr>\n",
       "    <tr>\n",
       "      <th>1</th>\n",
       "      <td>Quest</td>\n",
       "      <td>Azamara</td>\n",
       "      <td>6</td>\n",
       "      <td>30.277</td>\n",
       "      <td>6.94</td>\n",
       "      <td>5.94</td>\n",
       "      <td>3.55</td>\n",
       "      <td>42.64</td>\n",
       "      <td>3.55</td>\n",
       "    </tr>\n",
       "    <tr>\n",
       "      <th>2</th>\n",
       "      <td>Celebration</td>\n",
       "      <td>Carnival</td>\n",
       "      <td>26</td>\n",
       "      <td>47.262</td>\n",
       "      <td>14.86</td>\n",
       "      <td>7.22</td>\n",
       "      <td>7.43</td>\n",
       "      <td>31.80</td>\n",
       "      <td>6.70</td>\n",
       "    </tr>\n",
       "    <tr>\n",
       "      <th>3</th>\n",
       "      <td>Conquest</td>\n",
       "      <td>Carnival</td>\n",
       "      <td>11</td>\n",
       "      <td>110.000</td>\n",
       "      <td>29.74</td>\n",
       "      <td>9.53</td>\n",
       "      <td>14.88</td>\n",
       "      <td>36.99</td>\n",
       "      <td>19.10</td>\n",
       "    </tr>\n",
       "    <tr>\n",
       "      <th>4</th>\n",
       "      <td>Destiny</td>\n",
       "      <td>Carnival</td>\n",
       "      <td>17</td>\n",
       "      <td>101.353</td>\n",
       "      <td>26.42</td>\n",
       "      <td>8.92</td>\n",
       "      <td>13.21</td>\n",
       "      <td>38.36</td>\n",
       "      <td>10.00</td>\n",
       "    </tr>\n",
       "  </tbody>\n",
       "</table>\n",
       "</div>"
      ],
      "text/plain": [
       "     Ship_name Cruise_line  Age  Tonnage  passengers  length  cabins  \\\n",
       "0      Journey     Azamara    6   30.277        6.94    5.94    3.55   \n",
       "1        Quest     Azamara    6   30.277        6.94    5.94    3.55   \n",
       "2  Celebration    Carnival   26   47.262       14.86    7.22    7.43   \n",
       "3     Conquest    Carnival   11  110.000       29.74    9.53   14.88   \n",
       "4      Destiny    Carnival   17  101.353       26.42    8.92   13.21   \n",
       "\n",
       "   passenger_density   crew  \n",
       "0              42.64   3.55  \n",
       "1              42.64   3.55  \n",
       "2              31.80   6.70  \n",
       "3              36.99  19.10  \n",
       "4              38.36  10.00  "
      ]
     },
     "execution_count": 17,
     "metadata": {},
     "output_type": "execute_result"
    }
   ],
   "source": [
    "data.head()"
   ]
  },
  {
   "cell_type": "code",
   "execution_count": 18,
   "metadata": {
    "execution": {
     "iopub.execute_input": "2021-08-24T21:03:28.343078Z",
     "iopub.status.busy": "2021-08-24T21:03:28.342081Z",
     "iopub.status.idle": "2021-08-24T21:03:28.356080Z",
     "shell.execute_reply": "2021-08-24T21:03:28.355080Z",
     "shell.execute_reply.started": "2021-08-24T21:03:28.342081Z"
    }
   },
   "outputs": [
    {
     "data": {
      "text/plain": [
       "(158, 9)"
      ]
     },
     "execution_count": 18,
     "metadata": {},
     "output_type": "execute_result"
    }
   ],
   "source": [
    "data.shape"
   ]
  },
  {
   "cell_type": "code",
   "execution_count": 19,
   "metadata": {
    "execution": {
     "iopub.execute_input": "2021-08-24T21:03:28.357079Z",
     "iopub.status.busy": "2021-08-24T21:03:28.357079Z",
     "iopub.status.idle": "2021-08-24T21:03:28.387082Z",
     "shell.execute_reply": "2021-08-24T21:03:28.386082Z",
     "shell.execute_reply.started": "2021-08-24T21:03:28.357079Z"
    }
   },
   "outputs": [
    {
     "data": {
      "text/html": [
       "<div>\n",
       "<style scoped>\n",
       "    .dataframe tbody tr th:only-of-type {\n",
       "        vertical-align: middle;\n",
       "    }\n",
       "\n",
       "    .dataframe tbody tr th {\n",
       "        vertical-align: top;\n",
       "    }\n",
       "\n",
       "    .dataframe thead th {\n",
       "        text-align: right;\n",
       "    }\n",
       "</style>\n",
       "<table border=\"1\" class=\"dataframe\">\n",
       "  <thead>\n",
       "    <tr style=\"text-align: right;\">\n",
       "      <th></th>\n",
       "      <th>ship_name</th>\n",
       "      <th>cruise_line</th>\n",
       "      <th>age</th>\n",
       "      <th>tonnage</th>\n",
       "      <th>passengers</th>\n",
       "      <th>length</th>\n",
       "      <th>cabins</th>\n",
       "      <th>passenger_density</th>\n",
       "      <th>crew</th>\n",
       "    </tr>\n",
       "  </thead>\n",
       "  <tbody>\n",
       "    <tr>\n",
       "      <th>0</th>\n",
       "      <td>Journey</td>\n",
       "      <td>Azamara</td>\n",
       "      <td>6</td>\n",
       "      <td>30.277</td>\n",
       "      <td>6.94</td>\n",
       "      <td>5.94</td>\n",
       "      <td>3.55</td>\n",
       "      <td>42.64</td>\n",
       "      <td>3.55</td>\n",
       "    </tr>\n",
       "  </tbody>\n",
       "</table>\n",
       "</div>"
      ],
      "text/plain": [
       "  ship_name cruise_line  age  tonnage  passengers  length  cabins  \\\n",
       "0   Journey     Azamara    6   30.277        6.94    5.94    3.55   \n",
       "\n",
       "   passenger_density  crew  \n",
       "0              42.64  3.55  "
      ]
     },
     "execution_count": 19,
     "metadata": {},
     "output_type": "execute_result"
    }
   ],
   "source": [
    "# making column names lowercase\n",
    "data = data.rename(str.lower, axis='columns')\n",
    "data.head(1)"
   ]
  },
  {
   "cell_type": "markdown",
   "metadata": {
    "execution": {
     "iopub.execute_input": "2021-08-01T00:22:14.582705Z",
     "iopub.status.busy": "2021-08-01T00:22:14.582705Z",
     "iopub.status.idle": "2021-08-01T00:22:14.586699Z",
     "shell.execute_reply": "2021-08-01T00:22:14.585701Z",
     "shell.execute_reply.started": "2021-08-01T00:22:14.582705Z"
    }
   },
   "source": [
    "# 2. Calculate basic statistics\n",
    "...of the data (count, mean, std, etc) and examine data and state your observations.\n"
   ]
  },
  {
   "cell_type": "code",
   "execution_count": 20,
   "metadata": {
    "execution": {
     "iopub.execute_input": "2021-08-24T21:03:28.389081Z",
     "iopub.status.busy": "2021-08-24T21:03:28.389081Z",
     "iopub.status.idle": "2021-08-24T21:03:28.449082Z",
     "shell.execute_reply": "2021-08-24T21:03:28.448081Z",
     "shell.execute_reply.started": "2021-08-24T21:03:28.389081Z"
    }
   },
   "outputs": [
    {
     "data": {
      "text/html": [
       "<div>\n",
       "<style scoped>\n",
       "    .dataframe tbody tr th:only-of-type {\n",
       "        vertical-align: middle;\n",
       "    }\n",
       "\n",
       "    .dataframe tbody tr th {\n",
       "        vertical-align: top;\n",
       "    }\n",
       "\n",
       "    .dataframe thead th {\n",
       "        text-align: right;\n",
       "    }\n",
       "</style>\n",
       "<table border=\"1\" class=\"dataframe\">\n",
       "  <thead>\n",
       "    <tr style=\"text-align: right;\">\n",
       "      <th></th>\n",
       "      <th>age</th>\n",
       "      <th>tonnage</th>\n",
       "      <th>passengers</th>\n",
       "      <th>length</th>\n",
       "      <th>cabins</th>\n",
       "      <th>passenger_density</th>\n",
       "      <th>crew</th>\n",
       "    </tr>\n",
       "  </thead>\n",
       "  <tbody>\n",
       "    <tr>\n",
       "      <th>count</th>\n",
       "      <td>158.000000</td>\n",
       "      <td>158.000000</td>\n",
       "      <td>158.000000</td>\n",
       "      <td>158.000000</td>\n",
       "      <td>158.000000</td>\n",
       "      <td>158.000000</td>\n",
       "      <td>158.000000</td>\n",
       "    </tr>\n",
       "    <tr>\n",
       "      <th>mean</th>\n",
       "      <td>15.689873</td>\n",
       "      <td>71.284671</td>\n",
       "      <td>18.457405</td>\n",
       "      <td>8.130633</td>\n",
       "      <td>8.830000</td>\n",
       "      <td>39.900949</td>\n",
       "      <td>7.794177</td>\n",
       "    </tr>\n",
       "    <tr>\n",
       "      <th>std</th>\n",
       "      <td>7.615691</td>\n",
       "      <td>37.229540</td>\n",
       "      <td>9.677095</td>\n",
       "      <td>1.793474</td>\n",
       "      <td>4.471417</td>\n",
       "      <td>8.639217</td>\n",
       "      <td>3.503487</td>\n",
       "    </tr>\n",
       "    <tr>\n",
       "      <th>min</th>\n",
       "      <td>4.000000</td>\n",
       "      <td>2.329000</td>\n",
       "      <td>0.660000</td>\n",
       "      <td>2.790000</td>\n",
       "      <td>0.330000</td>\n",
       "      <td>17.700000</td>\n",
       "      <td>0.590000</td>\n",
       "    </tr>\n",
       "    <tr>\n",
       "      <th>25%</th>\n",
       "      <td>10.000000</td>\n",
       "      <td>46.013000</td>\n",
       "      <td>12.535000</td>\n",
       "      <td>7.100000</td>\n",
       "      <td>6.132500</td>\n",
       "      <td>34.570000</td>\n",
       "      <td>5.480000</td>\n",
       "    </tr>\n",
       "    <tr>\n",
       "      <th>50%</th>\n",
       "      <td>14.000000</td>\n",
       "      <td>71.899000</td>\n",
       "      <td>19.500000</td>\n",
       "      <td>8.555000</td>\n",
       "      <td>9.570000</td>\n",
       "      <td>39.085000</td>\n",
       "      <td>8.150000</td>\n",
       "    </tr>\n",
       "    <tr>\n",
       "      <th>75%</th>\n",
       "      <td>20.000000</td>\n",
       "      <td>90.772500</td>\n",
       "      <td>24.845000</td>\n",
       "      <td>9.510000</td>\n",
       "      <td>10.885000</td>\n",
       "      <td>44.185000</td>\n",
       "      <td>9.990000</td>\n",
       "    </tr>\n",
       "    <tr>\n",
       "      <th>max</th>\n",
       "      <td>48.000000</td>\n",
       "      <td>220.000000</td>\n",
       "      <td>54.000000</td>\n",
       "      <td>11.820000</td>\n",
       "      <td>27.000000</td>\n",
       "      <td>71.430000</td>\n",
       "      <td>21.000000</td>\n",
       "    </tr>\n",
       "  </tbody>\n",
       "</table>\n",
       "</div>"
      ],
      "text/plain": [
       "              age     tonnage  passengers      length      cabins  \\\n",
       "count  158.000000  158.000000  158.000000  158.000000  158.000000   \n",
       "mean    15.689873   71.284671   18.457405    8.130633    8.830000   \n",
       "std      7.615691   37.229540    9.677095    1.793474    4.471417   \n",
       "min      4.000000    2.329000    0.660000    2.790000    0.330000   \n",
       "25%     10.000000   46.013000   12.535000    7.100000    6.132500   \n",
       "50%     14.000000   71.899000   19.500000    8.555000    9.570000   \n",
       "75%     20.000000   90.772500   24.845000    9.510000   10.885000   \n",
       "max     48.000000  220.000000   54.000000   11.820000   27.000000   \n",
       "\n",
       "       passenger_density        crew  \n",
       "count         158.000000  158.000000  \n",
       "mean           39.900949    7.794177  \n",
       "std             8.639217    3.503487  \n",
       "min            17.700000    0.590000  \n",
       "25%            34.570000    5.480000  \n",
       "50%            39.085000    8.150000  \n",
       "75%            44.185000    9.990000  \n",
       "max            71.430000   21.000000  "
      ]
     },
     "execution_count": 20,
     "metadata": {},
     "output_type": "execute_result"
    }
   ],
   "source": [
    "data.describe()"
   ]
  },
  {
   "cell_type": "code",
   "execution_count": 21,
   "metadata": {
    "execution": {
     "iopub.execute_input": "2021-08-24T21:03:28.452082Z",
     "iopub.status.busy": "2021-08-24T21:03:28.451081Z",
     "iopub.status.idle": "2021-08-24T21:03:29.308084Z",
     "shell.execute_reply": "2021-08-24T21:03:29.307084Z",
     "shell.execute_reply.started": "2021-08-24T21:03:28.452082Z"
    }
   },
   "outputs": [
    {
     "data": {
      "text/plain": [
       "<matplotlib.axes._subplots.AxesSubplot at 0x24ebc9ca588>"
      ]
     },
     "execution_count": 21,
     "metadata": {},
     "output_type": "execute_result"
    },
    {
     "data": {
      "image/png": "[encoded data removed]",
      "text/plain": [
       "<Figure size 720x432 with 1 Axes>"
      ]
     },
     "metadata": {},
     "output_type": "display_data"
    }
   ],
   "source": [
    "sns.set(rc={'figure.figsize':(10, 6)})\n",
    "sns.countplot(x=data.age)"
   ]
  },
  {
   "cell_type": "code",
   "execution_count": 22,
   "metadata": {
    "execution": {
     "iopub.execute_input": "2021-08-24T21:03:29.310084Z",
     "iopub.status.busy": "2021-08-24T21:03:29.310084Z",
     "iopub.status.idle": "2021-08-24T21:03:29.841083Z",
     "shell.execute_reply": "2021-08-24T21:03:29.840084Z",
     "shell.execute_reply.started": "2021-08-24T21:03:29.310084Z"
    }
   },
   "outputs": [
    {
     "data": {
      "text/plain": [
       "<matplotlib.axes._subplots.AxesSubplot at 0x24ebca689b0>"
      ]
     },
     "execution_count": 22,
     "metadata": {},
     "output_type": "execute_result"
    },
    {
     "data": {
      "image/png": "[encoded data removed]",
      "text/plain": [
       "<Figure size 720x432 with 1 Axes>"
      ]
     },
     "metadata": {},
     "output_type": "display_data"
    }
   ],
   "source": [
    "sns.histplot(data.age, bins=20)"
   ]
  },
  {
   "cell_type": "code",
   "execution_count": 23,
   "metadata": {
    "execution": {
     "iopub.execute_input": "2021-08-24T21:03:29.843085Z",
     "iopub.status.busy": "2021-08-24T21:03:29.842078Z",
     "iopub.status.idle": "2021-08-24T21:03:29.872081Z",
     "shell.execute_reply": "2021-08-24T21:03:29.871078Z",
     "shell.execute_reply.started": "2021-08-24T21:03:29.843085Z"
    }
   },
   "outputs": [
    {
     "data": {
      "text/plain": [
       "0       30.277\n",
       "1       30.277\n",
       "2       47.262\n",
       "3      110.000\n",
       "4      101.353\n",
       "        ...   \n",
       "153      3.341\n",
       "154     76.800\n",
       "155      5.350\n",
       "156      5.350\n",
       "157     14.745\n",
       "Name: tonnage, Length: 158, dtype: float64"
      ]
     },
     "execution_count": 23,
     "metadata": {},
     "output_type": "execute_result"
    }
   ],
   "source": [
    "data.tonnage"
   ]
  },
  {
   "cell_type": "code",
   "execution_count": 24,
   "metadata": {
    "execution": {
     "iopub.execute_input": "2021-08-24T21:03:29.875081Z",
     "iopub.status.busy": "2021-08-24T21:03:29.874081Z",
     "iopub.status.idle": "2021-08-24T21:03:29.902096Z",
     "shell.execute_reply": "2021-08-24T21:03:29.901079Z",
     "shell.execute_reply.started": "2021-08-24T21:03:29.875081Z"
    }
   },
   "outputs": [
    {
     "data": {
      "text/plain": [
       "94"
      ]
     },
     "execution_count": 24,
     "metadata": {},
     "output_type": "execute_result"
    }
   ],
   "source": [
    "len(pd.unique(data.tonnage))"
   ]
  },
  {
   "cell_type": "code",
   "execution_count": 25,
   "metadata": {
    "execution": {
     "iopub.execute_input": "2021-08-24T21:03:29.905081Z",
     "iopub.status.busy": "2021-08-24T21:03:29.905081Z",
     "iopub.status.idle": "2021-08-24T21:03:29.934097Z",
     "shell.execute_reply": "2021-08-24T21:03:29.932083Z",
     "shell.execute_reply.started": "2021-08-24T21:03:29.905081Z"
    }
   },
   "outputs": [
    {
     "data": {
      "text/plain": [
       "70.367     8\n",
       "30.277     7\n",
       "91.000     5\n",
       "138.000    5\n",
       "90.090     4\n",
       "          ..\n",
       "108.977    1\n",
       "47.262     1\n",
       "101.353    1\n",
       "40.053     1\n",
       "59.652     1\n",
       "Name: tonnage, Length: 94, dtype: int64"
      ]
     },
     "execution_count": 25,
     "metadata": {},
     "output_type": "execute_result"
    }
   ],
   "source": [
    "data.tonnage.value_counts()"
   ]
  },
  {
   "cell_type": "code",
   "execution_count": 26,
   "metadata": {
    "execution": {
     "iopub.execute_input": "2021-08-24T21:03:29.939087Z",
     "iopub.status.busy": "2021-08-24T21:03:29.938110Z",
     "iopub.status.idle": "2021-08-24T21:03:29.965083Z",
     "shell.execute_reply": "2021-08-24T21:03:29.963082Z",
     "shell.execute_reply.started": "2021-08-24T21:03:29.939087Z"
    }
   },
   "outputs": [
    {
     "data": {
      "text/plain": [
       "94"
      ]
     },
     "execution_count": 26,
     "metadata": {},
     "output_type": "execute_result"
    }
   ],
   "source": [
    "data.tonnage.nunique()"
   ]
  },
  {
   "cell_type": "code",
   "execution_count": 27,
   "metadata": {
    "execution": {
     "iopub.execute_input": "2021-08-24T21:03:29.968083Z",
     "iopub.status.busy": "2021-08-24T21:03:29.968083Z",
     "iopub.status.idle": "2021-08-24T21:03:30.811080Z",
     "shell.execute_reply": "2021-08-24T21:03:30.810084Z",
     "shell.execute_reply.started": "2021-08-24T21:03:29.968083Z"
    }
   },
   "outputs": [
    {
     "data": {
      "image/png": "[encoded data removed]",
      "text/plain": [
       "<Figure size 1080x432 with 1 Axes>"
      ]
     },
     "metadata": {},
     "output_type": "display_data"
    }
   ],
   "source": [
    "sns.set(rc={'figure.figsize':(15, 6)})\n",
    "\n",
    "g = sns.countplot(x=data.tonnage)\n",
    "g.set(xticks=([0, data.tonnage.nunique()]))\n",
    "g.set(xticklabels=([data.tonnage.min(), data.tonnage.max()]))\n",
    "\n",
    "plt.show()"
   ]
  },
  {
   "cell_type": "markdown",
   "metadata": {},
   "source": [
    "I'm not sure what's going on with this graph. Why does it only go up to 14.745, when the weights are much higher? "
   ]
  },
  {
   "cell_type": "code",
   "execution_count": 28,
   "metadata": {
    "execution": {
     "iopub.execute_input": "2021-08-24T21:03:30.814080Z",
     "iopub.status.busy": "2021-08-24T21:03:30.813085Z",
     "iopub.status.idle": "2021-08-24T21:03:30.842081Z",
     "shell.execute_reply": "2021-08-24T21:03:30.840080Z",
     "shell.execute_reply.started": "2021-08-24T21:03:30.814080Z"
    }
   },
   "outputs": [
    {
     "data": {
      "text/plain": [
       "array([  0,   5,  10,  15,  20,  25,  30,  35,  40,  45,  50,  55,  60,\n",
       "        65,  70,  75,  80,  85,  90,  95, 100])"
      ]
     },
     "execution_count": 28,
     "metadata": {},
     "output_type": "execute_result"
    }
   ],
   "source": [
    "x = range(100)\n",
    "np.arange(0, len(x)+1, 5)"
   ]
  },
  {
   "cell_type": "code",
   "execution_count": 29,
   "metadata": {
    "execution": {
     "iopub.execute_input": "2021-08-24T21:03:30.844082Z",
     "iopub.status.busy": "2021-08-24T21:03:30.844082Z",
     "iopub.status.idle": "2021-08-24T21:03:30.875087Z",
     "shell.execute_reply": "2021-08-24T21:03:30.872087Z",
     "shell.execute_reply.started": "2021-08-24T21:03:30.844082Z"
    }
   },
   "outputs": [
    {
     "data": {
      "text/plain": [
       "array([  2.329,   3.341,   5.35 ,  10.   ,  12.5  ,  14.745,  16.8  ,\n",
       "        16.852,  19.093,  19.2  ,  22.08 ,  25.   ,  28.   ,  28.43 ,\n",
       "        30.277,  33.   ,  33.92 ,  34.25 ,  35.143,  38.   ,  40.053,\n",
       "        42.   ,  44.348,  45.   ,  46.   ,  46.052,  47.225,  47.262,\n",
       "        48.563,  50.   ,  50.76 ,  51.004,  52.926,  53.049,  53.872,\n",
       "        55.451,  58.6  ,  58.825,  59.058,  59.652,  61.   ,  63.   ,\n",
       "        68.   ,  69.153,  69.845,  70.   ,  70.327,  70.367,  70.606,\n",
       "        73.192,  73.941,  74.137,  75.166,  75.338,  76.   ,  76.8  ,\n",
       "        77.   ,  77.104,  77.499,  77.713,  78.491,  81.   ,  81.769,\n",
       "        83.   ,  83.338,  85.   ,  85.619,  86.   ,  88.5  ,  89.6  ,\n",
       "        90.   ,  90.09 ,  91.   ,  91.627,  93.   , 101.353, 101.509,\n",
       "       105.   , 108.806, 108.865, 108.977, 110.   , 110.239, 112.   ,\n",
       "       113.   , 115.   , 116.   , 122.   , 133.5  , 138.   , 151.4  ,\n",
       "       158.   , 160.   , 220.   ])"
      ]
     },
     "execution_count": 29,
     "metadata": {},
     "output_type": "execute_result"
    }
   ],
   "source": [
    "data.tonnage.sort_values(ascending=True).unique()"
   ]
  },
  {
   "cell_type": "code",
   "execution_count": 30,
   "metadata": {
    "execution": {
     "iopub.execute_input": "2021-08-24T21:03:30.878085Z",
     "iopub.status.busy": "2021-08-24T21:03:30.877090Z",
     "iopub.status.idle": "2021-08-24T21:03:30.905091Z",
     "shell.execute_reply": "2021-08-24T21:03:30.902080Z",
     "shell.execute_reply.started": "2021-08-24T21:03:30.878085Z"
    }
   },
   "outputs": [
    {
     "data": {
      "text/plain": [
       "array([  2.329,  14.745,  22.08 ,  33.   ,  40.053,  46.052,  50.76 ,\n",
       "        55.451,  61.   ,  70.   ,  73.941,  76.8  ,  78.491,  85.   ,\n",
       "        90.   , 101.353, 108.977, 115.   , 151.4  , 220.   ])"
      ]
     },
     "execution_count": 30,
     "metadata": {},
     "output_type": "execute_result"
    }
   ],
   "source": [
    "np.append(data.tonnage.sort_values(ascending=True).unique()[::5], (data.tonnage.max()))"
   ]
  },
  {
   "cell_type": "code",
   "execution_count": 31,
   "metadata": {
    "execution": {
     "iopub.execute_input": "2021-08-24T21:03:30.908082Z",
     "iopub.status.busy": "2021-08-24T21:03:30.907081Z",
     "iopub.status.idle": "2021-08-24T21:03:31.896084Z",
     "shell.execute_reply": "2021-08-24T21:03:31.895083Z",
     "shell.execute_reply.started": "2021-08-24T21:03:30.908082Z"
    }
   },
   "outputs": [
    {
     "data": {
      "image/png": "[encoded data removed]",
      "text/plain": [
       "<Figure size 1080x432 with 1 Axes>"
      ]
     },
     "metadata": {},
     "output_type": "display_data"
    }
   ],
   "source": [
    "sns.set(rc={'figure.figsize':(15, 6)})\n",
    "\n",
    "g = sns.countplot(x=data.tonnage)\n",
    "g.set(xticks=(np.arange(0, data.tonnage.nunique(), 5)))\n",
    "g.set(xticklabels=(data.tonnage.sort_values(ascending=True).unique()[::5]))\n",
    "\n",
    "plt.show()"
   ]
  },
  {
   "cell_type": "code",
   "execution_count": 32,
   "metadata": {
    "execution": {
     "iopub.execute_input": "2021-08-24T21:03:31.898082Z",
     "iopub.status.busy": "2021-08-24T21:03:31.897080Z",
     "iopub.status.idle": "2021-08-24T21:03:32.500081Z",
     "shell.execute_reply": "2021-08-24T21:03:32.499078Z",
     "shell.execute_reply.started": "2021-08-24T21:03:31.898082Z"
    }
   },
   "outputs": [
    {
     "data": {
      "image/png": "[encoded data removed]",
      "text/plain": [
       "<Figure size 1080x432 with 1 Axes>"
      ]
     },
     "metadata": {},
     "output_type": "display_data"
    }
   ],
   "source": [
    "sns.set(rc={'figure.figsize':(15, 6)})\n",
    "g = sns.countplot(x=data.crew)\n",
    "g.set(xticks=([0, 20, 40, 60, 95]))\n",
    "plt.show()"
   ]
  },
  {
   "cell_type": "code",
   "execution_count": 33,
   "metadata": {
    "execution": {
     "iopub.execute_input": "2021-08-24T21:03:32.505083Z",
     "iopub.status.busy": "2021-08-24T21:03:32.504085Z",
     "iopub.status.idle": "2021-08-24T21:03:32.969079Z",
     "shell.execute_reply": "2021-08-24T21:03:32.968083Z",
     "shell.execute_reply.started": "2021-08-24T21:03:32.505083Z"
    }
   },
   "outputs": [
    {
     "data": {
      "image/png": "[encoded data removed]",
      "text/plain": [
       "<Figure size 1080x432 with 1 Axes>"
      ]
     },
     "metadata": {},
     "output_type": "display_data"
    }
   ],
   "source": [
    "# sns.set(rc={'figure.figsize':(15, 6)})\n",
    "fig, ax = plt.subplots()\n",
    "fig = plt.hist(x=data.crew)\n",
    "ax.set(xticks=np.arange(0, 22, 1))\n",
    "plt.show()"
   ]
  },
  {
   "cell_type": "code",
   "execution_count": 34,
   "metadata": {
    "execution": {
     "iopub.execute_input": "2021-08-24T21:03:32.971087Z",
     "iopub.status.busy": "2021-08-24T21:03:32.971087Z",
     "iopub.status.idle": "2021-08-24T21:03:34.405081Z",
     "shell.execute_reply": "2021-08-24T21:03:34.404082Z",
     "shell.execute_reply.started": "2021-08-24T21:03:32.971087Z"
    }
   },
   "outputs": [
    {
     "data": {
      "image/png": "[encoded data removed]",
      "text/plain": [
       "<Figure size 1080x432 with 1 Axes>"
      ]
     },
     "metadata": {},
     "output_type": "display_data"
    }
   ],
   "source": [
    "sns.set(rc={'figure.figsize':(15, 6)})\n",
    "g = sns.lineplot(x=data.tonnage, y=data.crew)"
   ]
  },
  {
   "cell_type": "code",
   "execution_count": 35,
   "metadata": {
    "execution": {
     "iopub.execute_input": "2021-08-24T21:03:34.406078Z",
     "iopub.status.busy": "2021-08-24T21:03:34.406078Z",
     "iopub.status.idle": "2021-08-24T21:03:35.812079Z",
     "shell.execute_reply": "2021-08-24T21:03:35.811078Z",
     "shell.execute_reply.started": "2021-08-24T21:03:34.406078Z"
    }
   },
   "outputs": [
    {
     "data": {
      "image/png": "[encoded data removed]",
      "text/plain": [
       "<Figure size 1080x432 with 1 Axes>"
      ]
     },
     "metadata": {},
     "output_type": "display_data"
    }
   ],
   "source": [
    "sns.set(rc={'figure.figsize':(15, 6)})\n",
    "g = sns.lineplot(x=data.passengers, y=data.crew)"
   ]
  },
  {
   "cell_type": "code",
   "execution_count": 36,
   "metadata": {
    "execution": {
     "iopub.execute_input": "2021-08-24T21:03:35.814082Z",
     "iopub.status.busy": "2021-08-24T21:03:35.814082Z",
     "iopub.status.idle": "2021-08-24T21:03:37.027090Z",
     "shell.execute_reply": "2021-08-24T21:03:37.026085Z",
     "shell.execute_reply.started": "2021-08-24T21:03:35.814082Z"
    }
   },
   "outputs": [
    {
     "data": {
      "image/png": "[encoded data removed]",
      "text/plain": [
       "<Figure size 1080x432 with 1 Axes>"
      ]
     },
     "metadata": {},
     "output_type": "display_data"
    }
   ],
   "source": [
    "sns.set(rc={'figure.figsize':(15, 6)})\n",
    "g = sns.lineplot(x=data.age, y=data.crew)"
   ]
  },
  {
   "cell_type": "code",
   "execution_count": 37,
   "metadata": {
    "execution": {
     "iopub.execute_input": "2021-08-24T21:03:37.030083Z",
     "iopub.status.busy": "2021-08-24T21:03:37.029079Z",
     "iopub.status.idle": "2021-08-24T21:03:38.344083Z",
     "shell.execute_reply": "2021-08-24T21:03:38.343082Z",
     "shell.execute_reply.started": "2021-08-24T21:03:37.030083Z"
    }
   },
   "outputs": [
    {
     "data": {
      "image/png": "[encoded data removed]",
      "text/plain": [
       "<Figure size 1080x432 with 1 Axes>"
      ]
     },
     "metadata": {},
     "output_type": "display_data"
    }
   ],
   "source": [
    "sns.set(rc={'figure.figsize':(15, 6)})\n",
    "g = sns.lineplot(x=data.passenger_density, y=data.crew)"
   ]
  },
  {
   "cell_type": "code",
   "execution_count": 38,
   "metadata": {
    "execution": {
     "iopub.execute_input": "2021-08-24T21:03:38.345079Z",
     "iopub.status.busy": "2021-08-24T21:03:38.345079Z",
     "iopub.status.idle": "2021-08-24T21:03:39.896085Z",
     "shell.execute_reply": "2021-08-24T21:03:39.895082Z",
     "shell.execute_reply.started": "2021-08-24T21:03:38.345079Z"
    }
   },
   "outputs": [
    {
     "data": {
      "image/png": "[encoded data removed]",
      "text/plain": [
       "<Figure size 1080x432 with 1 Axes>"
      ]
     },
     "metadata": {},
     "output_type": "display_data"
    }
   ],
   "source": [
    "sns.set(rc={'figure.figsize':(15, 6)})\n",
    "g = sns.lineplot(x=data.cabins, y=data.crew)"
   ]
  },
  {
   "cell_type": "code",
   "execution_count": 39,
   "metadata": {
    "execution": {
     "iopub.execute_input": "2021-08-24T21:03:39.898085Z",
     "iopub.status.busy": "2021-08-24T21:03:39.898085Z",
     "iopub.status.idle": "2021-08-24T21:03:41.201078Z",
     "shell.execute_reply": "2021-08-24T21:03:41.200082Z",
     "shell.execute_reply.started": "2021-08-24T21:03:39.898085Z"
    }
   },
   "outputs": [
    {
     "data": {
      "image/png": "[encoded data removed]",
      "text/plain": [
       "<Figure size 1080x432 with 1 Axes>"
      ]
     },
     "metadata": {},
     "output_type": "display_data"
    }
   ],
   "source": [
    "sns.set(rc={'figure.figsize':(15, 6)})\n",
    "g = sns.lineplot(x=data.length, y=data.crew)"
   ]
  },
  {
   "cell_type": "markdown",
   "metadata": {},
   "source": [
    "# 3. Selecting important columns "
   ]
  },
  {
   "cell_type": "markdown",
   "metadata": {},
   "source": [
    "Line graphs show strong correlation between crew size and:  \n",
    "- tonnage  \n",
    "- passengers \n",
    "- cabins  \n",
    "\n",
    "OK correlation\n",
    "- length \n",
    "\n",
    "\n",
    "Weak correlation:  \n",
    "- age\n",
    "- passenger_density \n",
    "- ship_name\n",
    "\n",
    "Unknown\n",
    "- cruise_line\n",
    "\n"
   ]
  },
  {
   "cell_type": "markdown",
   "metadata": {},
   "source": [
    "# 4. Removing columns"
   ]
  },
  {
   "cell_type": "code",
   "execution_count": 40,
   "metadata": {
    "execution": {
     "iopub.execute_input": "2021-08-24T21:03:41.203082Z",
     "iopub.status.busy": "2021-08-24T21:03:41.203082Z",
     "iopub.status.idle": "2021-08-24T21:03:41.217085Z",
     "shell.execute_reply": "2021-08-24T21:03:41.215081Z",
     "shell.execute_reply.started": "2021-08-24T21:03:41.203082Z"
    }
   },
   "outputs": [],
   "source": [
    "data.drop(columns=['length', 'age', 'passenger_density', 'ship_name'], inplace=True)"
   ]
  },
  {
   "cell_type": "code",
   "execution_count": 41,
   "metadata": {
    "execution": {
     "iopub.execute_input": "2021-08-24T21:03:41.220085Z",
     "iopub.status.busy": "2021-08-24T21:03:41.219085Z",
     "iopub.status.idle": "2021-08-24T21:03:41.295077Z",
     "shell.execute_reply": "2021-08-24T21:03:41.294077Z",
     "shell.execute_reply.started": "2021-08-24T21:03:41.220085Z"
    }
   },
   "outputs": [
    {
     "data": {
      "text/html": [
       "<div>\n",
       "<style scoped>\n",
       "    .dataframe tbody tr th:only-of-type {\n",
       "        vertical-align: middle;\n",
       "    }\n",
       "\n",
       "    .dataframe tbody tr th {\n",
       "        vertical-align: top;\n",
       "    }\n",
       "\n",
       "    .dataframe thead th {\n",
       "        text-align: right;\n",
       "    }\n",
       "</style>\n",
       "<table border=\"1\" class=\"dataframe\">\n",
       "  <thead>\n",
       "    <tr style=\"text-align: right;\">\n",
       "      <th></th>\n",
       "      <th>cruise_line</th>\n",
       "      <th>tonnage</th>\n",
       "      <th>passengers</th>\n",
       "      <th>cabins</th>\n",
       "      <th>crew</th>\n",
       "    </tr>\n",
       "  </thead>\n",
       "  <tbody>\n",
       "    <tr>\n",
       "      <th>0</th>\n",
       "      <td>Azamara</td>\n",
       "      <td>30.277</td>\n",
       "      <td>6.94</td>\n",
       "      <td>3.55</td>\n",
       "      <td>3.55</td>\n",
       "    </tr>\n",
       "    <tr>\n",
       "      <th>1</th>\n",
       "      <td>Azamara</td>\n",
       "      <td>30.277</td>\n",
       "      <td>6.94</td>\n",
       "      <td>3.55</td>\n",
       "      <td>3.55</td>\n",
       "    </tr>\n",
       "    <tr>\n",
       "      <th>2</th>\n",
       "      <td>Carnival</td>\n",
       "      <td>47.262</td>\n",
       "      <td>14.86</td>\n",
       "      <td>7.43</td>\n",
       "      <td>6.70</td>\n",
       "    </tr>\n",
       "    <tr>\n",
       "      <th>3</th>\n",
       "      <td>Carnival</td>\n",
       "      <td>110.000</td>\n",
       "      <td>29.74</td>\n",
       "      <td>14.88</td>\n",
       "      <td>19.10</td>\n",
       "    </tr>\n",
       "    <tr>\n",
       "      <th>4</th>\n",
       "      <td>Carnival</td>\n",
       "      <td>101.353</td>\n",
       "      <td>26.42</td>\n",
       "      <td>13.21</td>\n",
       "      <td>10.00</td>\n",
       "    </tr>\n",
       "  </tbody>\n",
       "</table>\n",
       "</div>"
      ],
      "text/plain": [
       "  cruise_line  tonnage  passengers  cabins   crew\n",
       "0     Azamara   30.277        6.94    3.55   3.55\n",
       "1     Azamara   30.277        6.94    3.55   3.55\n",
       "2    Carnival   47.262       14.86    7.43   6.70\n",
       "3    Carnival  110.000       29.74   14.88  19.10\n",
       "4    Carnival  101.353       26.42   13.21  10.00"
      ]
     },
     "execution_count": 41,
     "metadata": {},
     "output_type": "execute_result"
    }
   ],
   "source": [
    "data.head()"
   ]
  },
  {
   "cell_type": "markdown",
   "metadata": {},
   "source": [
    "# 5. One-hot encoding"
   ]
  },
  {
   "cell_type": "code",
   "execution_count": 42,
   "metadata": {
    "execution": {
     "iopub.execute_input": "2021-08-24T21:03:41.297078Z",
     "iopub.status.busy": "2021-08-24T21:03:41.297078Z",
     "iopub.status.idle": "2021-08-24T21:03:41.360081Z",
     "shell.execute_reply": "2021-08-24T21:03:41.358082Z",
     "shell.execute_reply.started": "2021-08-24T21:03:41.297078Z"
    }
   },
   "outputs": [
    {
     "data": {
      "text/html": [
       "<div>\n",
       "<style scoped>\n",
       "    .dataframe tbody tr th:only-of-type {\n",
       "        vertical-align: middle;\n",
       "    }\n",
       "\n",
       "    .dataframe tbody tr th {\n",
       "        vertical-align: top;\n",
       "    }\n",
       "\n",
       "    .dataframe thead th {\n",
       "        text-align: right;\n",
       "    }\n",
       "</style>\n",
       "<table border=\"1\" class=\"dataframe\">\n",
       "  <thead>\n",
       "    <tr style=\"text-align: right;\">\n",
       "      <th></th>\n",
       "      <th>cruise_line__Azamara</th>\n",
       "      <th>cruise_line__Carnival</th>\n",
       "      <th>cruise_line__Celebrity</th>\n",
       "      <th>cruise_line__Costa</th>\n",
       "      <th>cruise_line__Crystal</th>\n",
       "      <th>cruise_line__Cunard</th>\n",
       "      <th>cruise_line__Disney</th>\n",
       "      <th>cruise_line__Holland_American</th>\n",
       "      <th>cruise_line__MSC</th>\n",
       "      <th>cruise_line__Norwegian</th>\n",
       "      <th>cruise_line__Oceania</th>\n",
       "      <th>cruise_line__Orient</th>\n",
       "      <th>cruise_line__P&amp;O</th>\n",
       "      <th>cruise_line__Princess</th>\n",
       "      <th>cruise_line__Regent_Seven_Seas</th>\n",
       "      <th>cruise_line__Royal_Caribbean</th>\n",
       "      <th>cruise_line__Seabourn</th>\n",
       "      <th>cruise_line__Silversea</th>\n",
       "      <th>cruise_line__Star</th>\n",
       "      <th>cruise_line__Windstar</th>\n",
       "    </tr>\n",
       "  </thead>\n",
       "  <tbody>\n",
       "    <tr>\n",
       "      <th>0</th>\n",
       "      <td>1</td>\n",
       "      <td>0</td>\n",
       "      <td>0</td>\n",
       "      <td>0</td>\n",
       "      <td>0</td>\n",
       "      <td>0</td>\n",
       "      <td>0</td>\n",
       "      <td>0</td>\n",
       "      <td>0</td>\n",
       "      <td>0</td>\n",
       "      <td>0</td>\n",
       "      <td>0</td>\n",
       "      <td>0</td>\n",
       "      <td>0</td>\n",
       "      <td>0</td>\n",
       "      <td>0</td>\n",
       "      <td>0</td>\n",
       "      <td>0</td>\n",
       "      <td>0</td>\n",
       "      <td>0</td>\n",
       "    </tr>\n",
       "    <tr>\n",
       "      <th>1</th>\n",
       "      <td>1</td>\n",
       "      <td>0</td>\n",
       "      <td>0</td>\n",
       "      <td>0</td>\n",
       "      <td>0</td>\n",
       "      <td>0</td>\n",
       "      <td>0</td>\n",
       "      <td>0</td>\n",
       "      <td>0</td>\n",
       "      <td>0</td>\n",
       "      <td>0</td>\n",
       "      <td>0</td>\n",
       "      <td>0</td>\n",
       "      <td>0</td>\n",
       "      <td>0</td>\n",
       "      <td>0</td>\n",
       "      <td>0</td>\n",
       "      <td>0</td>\n",
       "      <td>0</td>\n",
       "      <td>0</td>\n",
       "    </tr>\n",
       "    <tr>\n",
       "      <th>2</th>\n",
       "      <td>0</td>\n",
       "      <td>1</td>\n",
       "      <td>0</td>\n",
       "      <td>0</td>\n",
       "      <td>0</td>\n",
       "      <td>0</td>\n",
       "      <td>0</td>\n",
       "      <td>0</td>\n",
       "      <td>0</td>\n",
       "      <td>0</td>\n",
       "      <td>0</td>\n",
       "      <td>0</td>\n",
       "      <td>0</td>\n",
       "      <td>0</td>\n",
       "      <td>0</td>\n",
       "      <td>0</td>\n",
       "      <td>0</td>\n",
       "      <td>0</td>\n",
       "      <td>0</td>\n",
       "      <td>0</td>\n",
       "    </tr>\n",
       "    <tr>\n",
       "      <th>3</th>\n",
       "      <td>0</td>\n",
       "      <td>1</td>\n",
       "      <td>0</td>\n",
       "      <td>0</td>\n",
       "      <td>0</td>\n",
       "      <td>0</td>\n",
       "      <td>0</td>\n",
       "      <td>0</td>\n",
       "      <td>0</td>\n",
       "      <td>0</td>\n",
       "      <td>0</td>\n",
       "      <td>0</td>\n",
       "      <td>0</td>\n",
       "      <td>0</td>\n",
       "      <td>0</td>\n",
       "      <td>0</td>\n",
       "      <td>0</td>\n",
       "      <td>0</td>\n",
       "      <td>0</td>\n",
       "      <td>0</td>\n",
       "    </tr>\n",
       "    <tr>\n",
       "      <th>4</th>\n",
       "      <td>0</td>\n",
       "      <td>1</td>\n",
       "      <td>0</td>\n",
       "      <td>0</td>\n",
       "      <td>0</td>\n",
       "      <td>0</td>\n",
       "      <td>0</td>\n",
       "      <td>0</td>\n",
       "      <td>0</td>\n",
       "      <td>0</td>\n",
       "      <td>0</td>\n",
       "      <td>0</td>\n",
       "      <td>0</td>\n",
       "      <td>0</td>\n",
       "      <td>0</td>\n",
       "      <td>0</td>\n",
       "      <td>0</td>\n",
       "      <td>0</td>\n",
       "      <td>0</td>\n",
       "      <td>0</td>\n",
       "    </tr>\n",
       "  </tbody>\n",
       "</table>\n",
       "</div>"
      ],
      "text/plain": [
       "   cruise_line__Azamara  cruise_line__Carnival  cruise_line__Celebrity  \\\n",
       "0                     1                      0                       0   \n",
       "1                     1                      0                       0   \n",
       "2                     0                      1                       0   \n",
       "3                     0                      1                       0   \n",
       "4                     0                      1                       0   \n",
       "\n",
       "   cruise_line__Costa  cruise_line__Crystal  cruise_line__Cunard  \\\n",
       "0                   0                     0                    0   \n",
       "1                   0                     0                    0   \n",
       "2                   0                     0                    0   \n",
       "3                   0                     0                    0   \n",
       "4                   0                     0                    0   \n",
       "\n",
       "   cruise_line__Disney  cruise_line__Holland_American  cruise_line__MSC  \\\n",
       "0                    0                              0                 0   \n",
       "1                    0                              0                 0   \n",
       "2                    0                              0                 0   \n",
       "3                    0                              0                 0   \n",
       "4                    0                              0                 0   \n",
       "\n",
       "   cruise_line__Norwegian  cruise_line__Oceania  cruise_line__Orient  \\\n",
       "0                       0                     0                    0   \n",
       "1                       0                     0                    0   \n",
       "2                       0                     0                    0   \n",
       "3                       0                     0                    0   \n",
       "4                       0                     0                    0   \n",
       "\n",
       "   cruise_line__P&O  cruise_line__Princess  cruise_line__Regent_Seven_Seas  \\\n",
       "0                 0                      0                               0   \n",
       "1                 0                      0                               0   \n",
       "2                 0                      0                               0   \n",
       "3                 0                      0                               0   \n",
       "4                 0                      0                               0   \n",
       "\n",
       "   cruise_line__Royal_Caribbean  cruise_line__Seabourn  \\\n",
       "0                             0                      0   \n",
       "1                             0                      0   \n",
       "2                             0                      0   \n",
       "3                             0                      0   \n",
       "4                             0                      0   \n",
       "\n",
       "   cruise_line__Silversea  cruise_line__Star  cruise_line__Windstar  \n",
       "0                       0                  0                      0  \n",
       "1                       0                  0                      0  \n",
       "2                       0                  0                      0  \n",
       "3                       0                  0                      0  \n",
       "4                       0                  0                      0  "
      ]
     },
     "execution_count": 42,
     "metadata": {},
     "output_type": "execute_result"
    }
   ],
   "source": [
    "pd.get_dummies(data['cruise_line'], prefix='cruise_line_').head()"
   ]
  },
  {
   "cell_type": "code",
   "execution_count": 43,
   "metadata": {
    "execution": {
     "iopub.execute_input": "2021-08-24T21:03:41.364081Z",
     "iopub.status.busy": "2021-08-24T21:03:41.363084Z",
     "iopub.status.idle": "2021-08-24T21:03:41.391080Z",
     "shell.execute_reply": "2021-08-24T21:03:41.389080Z",
     "shell.execute_reply.started": "2021-08-24T21:03:41.364081Z"
    }
   },
   "outputs": [],
   "source": [
    "dummy_cols = pd.get_dummies(data['cruise_line'], prefix='c_l_')"
   ]
  },
  {
   "cell_type": "code",
   "execution_count": 44,
   "metadata": {
    "execution": {
     "iopub.execute_input": "2021-08-24T21:03:41.394079Z",
     "iopub.status.busy": "2021-08-24T21:03:41.393081Z",
     "iopub.status.idle": "2021-08-24T21:03:41.454082Z",
     "shell.execute_reply": "2021-08-24T21:03:41.452079Z",
     "shell.execute_reply.started": "2021-08-24T21:03:41.394079Z"
    }
   },
   "outputs": [],
   "source": [
    "data = pd.concat([data, dummy_cols], axis=1)\n",
    "data.drop(columns=['cruise_line'], inplace=True)"
   ]
  },
  {
   "cell_type": "code",
   "execution_count": 45,
   "metadata": {
    "execution": {
     "iopub.execute_input": "2021-08-24T21:03:41.457083Z",
     "iopub.status.busy": "2021-08-24T21:03:41.456084Z",
     "iopub.status.idle": "2021-08-24T21:03:41.533081Z",
     "shell.execute_reply": "2021-08-24T21:03:41.531082Z",
     "shell.execute_reply.started": "2021-08-24T21:03:41.457083Z"
    }
   },
   "outputs": [
    {
     "data": {
      "text/html": [
       "<div>\n",
       "<style scoped>\n",
       "    .dataframe tbody tr th:only-of-type {\n",
       "        vertical-align: middle;\n",
       "    }\n",
       "\n",
       "    .dataframe tbody tr th {\n",
       "        vertical-align: top;\n",
       "    }\n",
       "\n",
       "    .dataframe thead th {\n",
       "        text-align: right;\n",
       "    }\n",
       "</style>\n",
       "<table border=\"1\" class=\"dataframe\">\n",
       "  <thead>\n",
       "    <tr style=\"text-align: right;\">\n",
       "      <th></th>\n",
       "      <th>tonnage</th>\n",
       "      <th>passengers</th>\n",
       "      <th>cabins</th>\n",
       "      <th>crew</th>\n",
       "      <th>c_l__Azamara</th>\n",
       "      <th>c_l__Carnival</th>\n",
       "      <th>c_l__Celebrity</th>\n",
       "      <th>c_l__Costa</th>\n",
       "      <th>c_l__Crystal</th>\n",
       "      <th>c_l__Cunard</th>\n",
       "      <th>...</th>\n",
       "      <th>c_l__Oceania</th>\n",
       "      <th>c_l__Orient</th>\n",
       "      <th>c_l__P&amp;O</th>\n",
       "      <th>c_l__Princess</th>\n",
       "      <th>c_l__Regent_Seven_Seas</th>\n",
       "      <th>c_l__Royal_Caribbean</th>\n",
       "      <th>c_l__Seabourn</th>\n",
       "      <th>c_l__Silversea</th>\n",
       "      <th>c_l__Star</th>\n",
       "      <th>c_l__Windstar</th>\n",
       "    </tr>\n",
       "  </thead>\n",
       "  <tbody>\n",
       "    <tr>\n",
       "      <th>0</th>\n",
       "      <td>30.277</td>\n",
       "      <td>6.94</td>\n",
       "      <td>3.55</td>\n",
       "      <td>3.55</td>\n",
       "      <td>1</td>\n",
       "      <td>0</td>\n",
       "      <td>0</td>\n",
       "      <td>0</td>\n",
       "      <td>0</td>\n",
       "      <td>0</td>\n",
       "      <td>...</td>\n",
       "      <td>0</td>\n",
       "      <td>0</td>\n",
       "      <td>0</td>\n",
       "      <td>0</td>\n",
       "      <td>0</td>\n",
       "      <td>0</td>\n",
       "      <td>0</td>\n",
       "      <td>0</td>\n",
       "      <td>0</td>\n",
       "      <td>0</td>\n",
       "    </tr>\n",
       "    <tr>\n",
       "      <th>1</th>\n",
       "      <td>30.277</td>\n",
       "      <td>6.94</td>\n",
       "      <td>3.55</td>\n",
       "      <td>3.55</td>\n",
       "      <td>1</td>\n",
       "      <td>0</td>\n",
       "      <td>0</td>\n",
       "      <td>0</td>\n",
       "      <td>0</td>\n",
       "      <td>0</td>\n",
       "      <td>...</td>\n",
       "      <td>0</td>\n",
       "      <td>0</td>\n",
       "      <td>0</td>\n",
       "      <td>0</td>\n",
       "      <td>0</td>\n",
       "      <td>0</td>\n",
       "      <td>0</td>\n",
       "      <td>0</td>\n",
       "      <td>0</td>\n",
       "      <td>0</td>\n",
       "    </tr>\n",
       "    <tr>\n",
       "      <th>2</th>\n",
       "      <td>47.262</td>\n",
       "      <td>14.86</td>\n",
       "      <td>7.43</td>\n",
       "      <td>6.70</td>\n",
       "      <td>0</td>\n",
       "      <td>1</td>\n",
       "      <td>0</td>\n",
       "      <td>0</td>\n",
       "      <td>0</td>\n",
       "      <td>0</td>\n",
       "      <td>...</td>\n",
       "      <td>0</td>\n",
       "      <td>0</td>\n",
       "      <td>0</td>\n",
       "      <td>0</td>\n",
       "      <td>0</td>\n",
       "      <td>0</td>\n",
       "      <td>0</td>\n",
       "      <td>0</td>\n",
       "      <td>0</td>\n",
       "      <td>0</td>\n",
       "    </tr>\n",
       "    <tr>\n",
       "      <th>3</th>\n",
       "      <td>110.000</td>\n",
       "      <td>29.74</td>\n",
       "      <td>14.88</td>\n",
       "      <td>19.10</td>\n",
       "      <td>0</td>\n",
       "      <td>1</td>\n",
       "      <td>0</td>\n",
       "      <td>0</td>\n",
       "      <td>0</td>\n",
       "      <td>0</td>\n",
       "      <td>...</td>\n",
       "      <td>0</td>\n",
       "      <td>0</td>\n",
       "      <td>0</td>\n",
       "      <td>0</td>\n",
       "      <td>0</td>\n",
       "      <td>0</td>\n",
       "      <td>0</td>\n",
       "      <td>0</td>\n",
       "      <td>0</td>\n",
       "      <td>0</td>\n",
       "    </tr>\n",
       "    <tr>\n",
       "      <th>4</th>\n",
       "      <td>101.353</td>\n",
       "      <td>26.42</td>\n",
       "      <td>13.21</td>\n",
       "      <td>10.00</td>\n",
       "      <td>0</td>\n",
       "      <td>1</td>\n",
       "      <td>0</td>\n",
       "      <td>0</td>\n",
       "      <td>0</td>\n",
       "      <td>0</td>\n",
       "      <td>...</td>\n",
       "      <td>0</td>\n",
       "      <td>0</td>\n",
       "      <td>0</td>\n",
       "      <td>0</td>\n",
       "      <td>0</td>\n",
       "      <td>0</td>\n",
       "      <td>0</td>\n",
       "      <td>0</td>\n",
       "      <td>0</td>\n",
       "      <td>0</td>\n",
       "    </tr>\n",
       "  </tbody>\n",
       "</table>\n",
       "<p>5 rows × 24 columns</p>\n",
       "</div>"
      ],
      "text/plain": [
       "   tonnage  passengers  cabins   crew  c_l__Azamara  c_l__Carnival  \\\n",
       "0   30.277        6.94    3.55   3.55             1              0   \n",
       "1   30.277        6.94    3.55   3.55             1              0   \n",
       "2   47.262       14.86    7.43   6.70             0              1   \n",
       "3  110.000       29.74   14.88  19.10             0              1   \n",
       "4  101.353       26.42   13.21  10.00             0              1   \n",
       "\n",
       "   c_l__Celebrity  c_l__Costa  c_l__Crystal  c_l__Cunard  ...  c_l__Oceania  \\\n",
       "0               0           0             0            0  ...             0   \n",
       "1               0           0             0            0  ...             0   \n",
       "2               0           0             0            0  ...             0   \n",
       "3               0           0             0            0  ...             0   \n",
       "4               0           0             0            0  ...             0   \n",
       "\n",
       "   c_l__Orient  c_l__P&O  c_l__Princess  c_l__Regent_Seven_Seas  \\\n",
       "0            0         0              0                       0   \n",
       "1            0         0              0                       0   \n",
       "2            0         0              0                       0   \n",
       "3            0         0              0                       0   \n",
       "4            0         0              0                       0   \n",
       "\n",
       "   c_l__Royal_Caribbean  c_l__Seabourn  c_l__Silversea  c_l__Star  \\\n",
       "0                     0              0               0          0   \n",
       "1                     0              0               0          0   \n",
       "2                     0              0               0          0   \n",
       "3                     0              0               0          0   \n",
       "4                     0              0               0          0   \n",
       "\n",
       "   c_l__Windstar  \n",
       "0              0  \n",
       "1              0  \n",
       "2              0  \n",
       "3              0  \n",
       "4              0  \n",
       "\n",
       "[5 rows x 24 columns]"
      ]
     },
     "execution_count": 45,
     "metadata": {},
     "output_type": "execute_result"
    }
   ],
   "source": [
    "data.head()"
   ]
  },
  {
   "cell_type": "code",
   "execution_count": 51,
   "metadata": {
    "execution": {
     "iopub.execute_input": "2021-08-24T21:05:09.442316Z",
     "iopub.status.busy": "2021-08-24T21:05:09.441317Z",
     "iopub.status.idle": "2021-08-24T21:05:09.959315Z",
     "shell.execute_reply": "2021-08-24T21:05:09.958313Z",
     "shell.execute_reply.started": "2021-08-24T21:05:09.442316Z"
    }
   },
   "outputs": [
    {
     "data": {
      "image/png": "[encoded data removed]",
      "text/plain": [
       "<Figure size 1080x432 with 1 Axes>"
      ]
     },
     "metadata": {},
     "output_type": "display_data"
    }
   ],
   "source": [
    "plt.scatter(data['c_l__Azamara'],data['crew'])\n",
    "plt.xlabel('Line_Asamara')\n",
    "plt.ylabel('crew')\n",
    "plt.show()"
   ]
  },
  {
   "cell_type": "code",
   "execution_count": 58,
   "metadata": {
    "execution": {
     "iopub.execute_input": "2021-08-24T21:09:39.471668Z",
     "iopub.status.busy": "2021-08-24T21:09:39.470668Z",
     "iopub.status.idle": "2021-08-24T21:09:39.495669Z",
     "shell.execute_reply": "2021-08-24T21:09:39.494668Z",
     "shell.execute_reply.started": "2021-08-24T21:09:39.471668Z"
    }
   },
   "outputs": [
    {
     "data": {
      "text/html": [
       "<div>\n",
       "<style scoped>\n",
       "    .dataframe tbody tr th:only-of-type {\n",
       "        vertical-align: middle;\n",
       "    }\n",
       "\n",
       "    .dataframe tbody tr th {\n",
       "        vertical-align: top;\n",
       "    }\n",
       "\n",
       "    .dataframe thead th {\n",
       "        text-align: right;\n",
       "    }\n",
       "</style>\n",
       "<table border=\"1\" class=\"dataframe\">\n",
       "  <thead>\n",
       "    <tr style=\"text-align: right;\">\n",
       "      <th></th>\n",
       "      <th>c_l__Azamara</th>\n",
       "      <th>c_l__Carnival</th>\n",
       "      <th>c_l__Celebrity</th>\n",
       "      <th>c_l__Costa</th>\n",
       "      <th>c_l__Crystal</th>\n",
       "      <th>c_l__Cunard</th>\n",
       "      <th>c_l__Disney</th>\n",
       "      <th>c_l__Holland_American</th>\n",
       "      <th>c_l__MSC</th>\n",
       "      <th>c_l__Norwegian</th>\n",
       "      <th>c_l__Oceania</th>\n",
       "      <th>c_l__Orient</th>\n",
       "      <th>c_l__P&amp;O</th>\n",
       "      <th>c_l__Princess</th>\n",
       "      <th>c_l__Regent_Seven_Seas</th>\n",
       "      <th>c_l__Royal_Caribbean</th>\n",
       "      <th>c_l__Seabourn</th>\n",
       "      <th>c_l__Silversea</th>\n",
       "      <th>c_l__Star</th>\n",
       "      <th>c_l__Windstar</th>\n",
       "    </tr>\n",
       "  </thead>\n",
       "  <tbody>\n",
       "    <tr>\n",
       "      <th>0</th>\n",
       "      <td>1</td>\n",
       "      <td>0</td>\n",
       "      <td>0</td>\n",
       "      <td>0</td>\n",
       "      <td>0</td>\n",
       "      <td>0</td>\n",
       "      <td>0</td>\n",
       "      <td>0</td>\n",
       "      <td>0</td>\n",
       "      <td>0</td>\n",
       "      <td>0</td>\n",
       "      <td>0</td>\n",
       "      <td>0</td>\n",
       "      <td>0</td>\n",
       "      <td>0</td>\n",
       "      <td>0</td>\n",
       "      <td>0</td>\n",
       "      <td>0</td>\n",
       "      <td>0</td>\n",
       "      <td>0</td>\n",
       "    </tr>\n",
       "    <tr>\n",
       "      <th>1</th>\n",
       "      <td>1</td>\n",
       "      <td>0</td>\n",
       "      <td>0</td>\n",
       "      <td>0</td>\n",
       "      <td>0</td>\n",
       "      <td>0</td>\n",
       "      <td>0</td>\n",
       "      <td>0</td>\n",
       "      <td>0</td>\n",
       "      <td>0</td>\n",
       "      <td>0</td>\n",
       "      <td>0</td>\n",
       "      <td>0</td>\n",
       "      <td>0</td>\n",
       "      <td>0</td>\n",
       "      <td>0</td>\n",
       "      <td>0</td>\n",
       "      <td>0</td>\n",
       "      <td>0</td>\n",
       "      <td>0</td>\n",
       "    </tr>\n",
       "    <tr>\n",
       "      <th>2</th>\n",
       "      <td>0</td>\n",
       "      <td>1</td>\n",
       "      <td>0</td>\n",
       "      <td>0</td>\n",
       "      <td>0</td>\n",
       "      <td>0</td>\n",
       "      <td>0</td>\n",
       "      <td>0</td>\n",
       "      <td>0</td>\n",
       "      <td>0</td>\n",
       "      <td>0</td>\n",
       "      <td>0</td>\n",
       "      <td>0</td>\n",
       "      <td>0</td>\n",
       "      <td>0</td>\n",
       "      <td>0</td>\n",
       "      <td>0</td>\n",
       "      <td>0</td>\n",
       "      <td>0</td>\n",
       "      <td>0</td>\n",
       "    </tr>\n",
       "    <tr>\n",
       "      <th>3</th>\n",
       "      <td>0</td>\n",
       "      <td>1</td>\n",
       "      <td>0</td>\n",
       "      <td>0</td>\n",
       "      <td>0</td>\n",
       "      <td>0</td>\n",
       "      <td>0</td>\n",
       "      <td>0</td>\n",
       "      <td>0</td>\n",
       "      <td>0</td>\n",
       "      <td>0</td>\n",
       "      <td>0</td>\n",
       "      <td>0</td>\n",
       "      <td>0</td>\n",
       "      <td>0</td>\n",
       "      <td>0</td>\n",
       "      <td>0</td>\n",
       "      <td>0</td>\n",
       "      <td>0</td>\n",
       "      <td>0</td>\n",
       "    </tr>\n",
       "    <tr>\n",
       "      <th>4</th>\n",
       "      <td>0</td>\n",
       "      <td>1</td>\n",
       "      <td>0</td>\n",
       "      <td>0</td>\n",
       "      <td>0</td>\n",
       "      <td>0</td>\n",
       "      <td>0</td>\n",
       "      <td>0</td>\n",
       "      <td>0</td>\n",
       "      <td>0</td>\n",
       "      <td>0</td>\n",
       "      <td>0</td>\n",
       "      <td>0</td>\n",
       "      <td>0</td>\n",
       "      <td>0</td>\n",
       "      <td>0</td>\n",
       "      <td>0</td>\n",
       "      <td>0</td>\n",
       "      <td>0</td>\n",
       "      <td>0</td>\n",
       "    </tr>\n",
       "  </tbody>\n",
       "</table>\n",
       "</div>"
      ],
      "text/plain": [
       "   c_l__Azamara  c_l__Carnival  c_l__Celebrity  c_l__Costa  c_l__Crystal  \\\n",
       "0             1              0               0           0             0   \n",
       "1             1              0               0           0             0   \n",
       "2             0              1               0           0             0   \n",
       "3             0              1               0           0             0   \n",
       "4             0              1               0           0             0   \n",
       "\n",
       "   c_l__Cunard  c_l__Disney  c_l__Holland_American  c_l__MSC  c_l__Norwegian  \\\n",
       "0            0            0                      0         0               0   \n",
       "1            0            0                      0         0               0   \n",
       "2            0            0                      0         0               0   \n",
       "3            0            0                      0         0               0   \n",
       "4            0            0                      0         0               0   \n",
       "\n",
       "   c_l__Oceania  c_l__Orient  c_l__P&O  c_l__Princess  c_l__Regent_Seven_Seas  \\\n",
       "0             0            0         0              0                       0   \n",
       "1             0            0         0              0                       0   \n",
       "2             0            0         0              0                       0   \n",
       "3             0            0         0              0                       0   \n",
       "4             0            0         0              0                       0   \n",
       "\n",
       "   c_l__Royal_Caribbean  c_l__Seabourn  c_l__Silversea  c_l__Star  \\\n",
       "0                     0              0               0          0   \n",
       "1                     0              0               0          0   \n",
       "2                     0              0               0          0   \n",
       "3                     0              0               0          0   \n",
       "4                     0              0               0          0   \n",
       "\n",
       "   c_l__Windstar  \n",
       "0              0  \n",
       "1              0  \n",
       "2              0  \n",
       "3              0  \n",
       "4              0  "
      ]
     },
     "execution_count": 58,
     "metadata": {},
     "output_type": "execute_result"
    }
   ],
   "source": [
    "data.iloc[:,4:].head()"
   ]
  },
  {
   "cell_type": "markdown",
   "metadata": {},
   "source": [
    "Dropping the cruise line names because not needed for model"
   ]
  },
  {
   "cell_type": "code",
   "execution_count": 61,
   "metadata": {
    "execution": {
     "iopub.execute_input": "2021-08-24T21:11:21.207272Z",
     "iopub.status.busy": "2021-08-24T21:11:21.207272Z",
     "iopub.status.idle": "2021-08-24T21:11:21.243271Z",
     "shell.execute_reply": "2021-08-24T21:11:21.242271Z",
     "shell.execute_reply.started": "2021-08-24T21:11:21.207272Z"
    }
   },
   "outputs": [],
   "source": [
    "data.drop(data.iloc[:,4:], axis=1, inplace=True)"
   ]
  },
  {
   "cell_type": "code",
   "execution_count": 62,
   "metadata": {
    "execution": {
     "iopub.execute_input": "2021-08-24T21:11:32.099239Z",
     "iopub.status.busy": "2021-08-24T21:11:32.099239Z",
     "iopub.status.idle": "2021-08-24T21:11:32.122235Z",
     "shell.execute_reply": "2021-08-24T21:11:32.121235Z",
     "shell.execute_reply.started": "2021-08-24T21:11:32.099239Z"
    }
   },
   "outputs": [
    {
     "data": {
      "text/html": [
       "<div>\n",
       "<style scoped>\n",
       "    .dataframe tbody tr th:only-of-type {\n",
       "        vertical-align: middle;\n",
       "    }\n",
       "\n",
       "    .dataframe tbody tr th {\n",
       "        vertical-align: top;\n",
       "    }\n",
       "\n",
       "    .dataframe thead th {\n",
       "        text-align: right;\n",
       "    }\n",
       "</style>\n",
       "<table border=\"1\" class=\"dataframe\">\n",
       "  <thead>\n",
       "    <tr style=\"text-align: right;\">\n",
       "      <th></th>\n",
       "      <th>tonnage</th>\n",
       "      <th>passengers</th>\n",
       "      <th>cabins</th>\n",
       "      <th>crew</th>\n",
       "    </tr>\n",
       "  </thead>\n",
       "  <tbody>\n",
       "    <tr>\n",
       "      <th>0</th>\n",
       "      <td>30.277</td>\n",
       "      <td>6.94</td>\n",
       "      <td>3.55</td>\n",
       "      <td>3.55</td>\n",
       "    </tr>\n",
       "    <tr>\n",
       "      <th>1</th>\n",
       "      <td>30.277</td>\n",
       "      <td>6.94</td>\n",
       "      <td>3.55</td>\n",
       "      <td>3.55</td>\n",
       "    </tr>\n",
       "    <tr>\n",
       "      <th>2</th>\n",
       "      <td>47.262</td>\n",
       "      <td>14.86</td>\n",
       "      <td>7.43</td>\n",
       "      <td>6.70</td>\n",
       "    </tr>\n",
       "    <tr>\n",
       "      <th>3</th>\n",
       "      <td>110.000</td>\n",
       "      <td>29.74</td>\n",
       "      <td>14.88</td>\n",
       "      <td>19.10</td>\n",
       "    </tr>\n",
       "    <tr>\n",
       "      <th>4</th>\n",
       "      <td>101.353</td>\n",
       "      <td>26.42</td>\n",
       "      <td>13.21</td>\n",
       "      <td>10.00</td>\n",
       "    </tr>\n",
       "  </tbody>\n",
       "</table>\n",
       "</div>"
      ],
      "text/plain": [
       "   tonnage  passengers  cabins   crew\n",
       "0   30.277        6.94    3.55   3.55\n",
       "1   30.277        6.94    3.55   3.55\n",
       "2   47.262       14.86    7.43   6.70\n",
       "3  110.000       29.74   14.88  19.10\n",
       "4  101.353       26.42   13.21  10.00"
      ]
     },
     "execution_count": 62,
     "metadata": {},
     "output_type": "execute_result"
    }
   ],
   "source": [
    "data.head()"
   ]
  },
  {
   "cell_type": "markdown",
   "metadata": {},
   "source": [
    "# 6. Create training and testing sets\n",
    "(Use 60% of the data for the training and reminder for testing)."
   ]
  },
  {
   "cell_type": "code",
   "execution_count": 46,
   "metadata": {
    "execution": {
     "iopub.execute_input": "2021-08-24T21:03:41.537100Z",
     "iopub.status.busy": "2021-08-24T21:03:41.536082Z",
     "iopub.status.idle": "2021-08-24T21:03:43.630082Z",
     "shell.execute_reply": "2021-08-24T21:03:43.629080Z",
     "shell.execute_reply.started": "2021-08-24T21:03:41.537100Z"
    }
   },
   "outputs": [],
   "source": [
    "from sklearn.model_selection import train_test_split"
   ]
  },
  {
   "cell_type": "code",
   "execution_count": 47,
   "metadata": {
    "execution": {
     "iopub.execute_input": "2021-08-24T21:03:43.632080Z",
     "iopub.status.busy": "2021-08-24T21:03:43.632080Z",
     "iopub.status.idle": "2021-08-24T21:03:43.646082Z",
     "shell.execute_reply": "2021-08-24T21:03:43.645085Z",
     "shell.execute_reply.started": "2021-08-24T21:03:43.632080Z"
    }
   },
   "outputs": [],
   "source": [
    "y = data[['crew']]\n",
    "X = data.drop(['crew'], axis=1)"
   ]
  },
  {
   "cell_type": "code",
   "execution_count": 48,
   "metadata": {
    "execution": {
     "iopub.execute_input": "2021-08-24T21:03:43.649082Z",
     "iopub.status.busy": "2021-08-24T21:03:43.648085Z",
     "iopub.status.idle": "2021-08-24T21:03:43.678081Z",
     "shell.execute_reply": "2021-08-24T21:03:43.676085Z",
     "shell.execute_reply.started": "2021-08-24T21:03:43.649082Z"
    }
   },
   "outputs": [],
   "source": [
    "X_train, X_test, y_train, y_test = train_test_split(X, y, test_size=0.4, random_state=50)"
   ]
  },
  {
   "cell_type": "code",
   "execution_count": 49,
   "metadata": {
    "execution": {
     "iopub.execute_input": "2021-08-24T21:03:43.681083Z",
     "iopub.status.busy": "2021-08-24T21:03:43.680083Z",
     "iopub.status.idle": "2021-08-24T21:03:43.708081Z",
     "shell.execute_reply": "2021-08-24T21:03:43.707078Z",
     "shell.execute_reply.started": "2021-08-24T21:03:43.681083Z"
    }
   },
   "outputs": [
    {
     "name": "stdout",
     "output_type": "stream",
     "text": [
      "94 64 94 64\n"
     ]
    }
   ],
   "source": [
    "print(len(X_train), len(X_test), len(y_train), len(y_test))"
   ]
  },
  {
   "cell_type": "markdown",
   "metadata": {},
   "source": [
    "# 7. Build a machine learning model to predict the ‘crew’ size."
   ]
  },
  {
   "cell_type": "code",
   "execution_count": null,
   "metadata": {},
   "outputs": [],
   "source": []
  }
 ],
 "metadata": {
  "kernelspec": {
   "display_name": "Python 3",
   "language": "python",
   "name": "python3"
  },
  "language_info": {
   "codemirror_mode": {
    "name": "ipython",
    "version": 3
   },
   "file_extension": ".py",
   "mimetype": "text/x-python",
   "name": "python",
   "nbconvert_exporter": "python",
   "pygments_lexer": "ipython3",
   "version": "3.6.9"
  }
 },
 "nbformat": 4,
 "nbformat_minor": 4
}
